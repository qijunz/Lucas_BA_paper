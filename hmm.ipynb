{
 "cells": [
  {
   "cell_type": "code",
   "execution_count": 146,
   "metadata": {},
   "outputs": [],
   "source": [
    "import os\n",
    "import re\n",
    "import glob\n",
    "import urllib\n",
    "import toytree\n",
    "import toyplot\n",
    "import toyplot.pdf\n",
    "import subprocess\n",
    "import pandas as pd\n",
    "import numpy as np\n",
    "import matplotlib.pyplot as plt\n",
    "\n",
    "from io import StringIO\n",
    "\n",
    "from Bio import SeqIO\n",
    "from Bio import Entrez\n",
    "from Bio import AlignIO\n",
    "from Bio.Align.Applications import MuscleCommandline\n",
    "\n",
    "from BCBio import GFF"
   ]
  },
  {
   "cell_type": "code",
   "execution_count": 140,
   "metadata": {},
   "outputs": [
    {
     "data": {
      "text/plain": [
       "0"
      ]
     },
     "execution_count": 140,
     "metadata": {},
     "output_type": "execute_result"
    }
   ],
   "source": [
    "# concat all protein aa sequences into one file\n",
    "subprocess.call(\"cat data/protein_faa/*.faa > data/protein_faa_all_genome.faa\", stdout=True, shell=True)"
   ]
  },
  {
   "cell_type": "markdown",
   "metadata": {},
   "source": [
    "## Select annotated HSD genes from UniPort\n",
    "\n",
    "- 3-alpha HSD `P80702`, `Q59718`, `A7B3K3`, `C8WMP0`, `P19337`, `P07914`\n",
    "- 7-alpha HSD `P0AET8`, `Q5LA59`, `G9FRD7`, `P50200`, `Q8YIN7`\n",
    "- 12-alpha HSD `P21215`, `R7AM69`, `C8WLK7`, `C0BWQ2`, `B0NG52`, `B6FYX7`"
   ]
  },
  {
   "cell_type": "code",
   "execution_count": 4,
   "metadata": {},
   "outputs": [],
   "source": [
    "os.chdir(\"/Users/rootqz/Desktop/ReyLab/paper/bile_acid/analysis/hmm/\")\n",
    "\n",
    "acc_3alpha = ['P80702', 'Q59718', 'A7B3K3', 'C8WMP0', 'P19337', 'P07914']\n",
    "acc_7alpha = ['P0AET8', 'Q5LA59', 'G9FRD7', 'P50200', 'Q8YIN7']\n",
    "acc_12alpha = ['P21215', 'R7AM69', 'C8WLK7', 'C0BWQ2', 'B0NG52', 'B6FYX7']\n",
    "\n",
    "metadata = pd.read_csv(\"data/metadata.tsv\", sep=\"\\t\")"
   ]
  },
  {
   "cell_type": "code",
   "execution_count": 9,
   "metadata": {},
   "outputs": [],
   "source": [
    "# download query protein sequences from UniProt\n",
    "\n",
    "# 3-alpha\n",
    "records = []\n",
    "records_dict = {}\n",
    "for acc in acc_3alpha:\n",
    "    handle = urllib.request.urlopen(\"http://www.uniprot.org/uniprot/{}.xml\".format(acc))\n",
    "    record = SeqIO.read(handle, \"uniprot-xml\")\n",
    "    # print(\"{}, {}\".format(acc, record.id))\n",
    "    SeqIO.write(record, \"data/hsd_query/{}.fasta\".format(acc), \"fasta\")\n",
    "    records_dict[acc] = record\n",
    "    records.append(record)\n",
    "    SeqIO.write(records, \"data/hsd_3alpha_query_UniProt.fasta\", \"fasta\")\n",
    "\n",
    "# 7-alpha\n",
    "records = []\n",
    "records_dict = {}\n",
    "for acc in acc_7alpha:\n",
    "    handle = urllib.request.urlopen(\"http://www.uniprot.org/uniprot/{}.xml\".format(acc))\n",
    "    record = SeqIO.read(handle, \"uniprot-xml\")\n",
    "    # print(\"{}, {}\".format(acc, record.id))\n",
    "    SeqIO.write(record, \"data/hsd_query/{}.fasta\".format(acc), \"fasta\")\n",
    "    records_dict[acc] = record\n",
    "    records.append(record)\n",
    "    SeqIO.write(records, \"data/hsd_7alpha_query_UniProt.fasta\", \"fasta\")\n",
    "    \n",
    "# 12-alpha\n",
    "records = []\n",
    "records_dict = {}\n",
    "for acc in acc_12alpha:\n",
    "    handle = urllib.request.urlopen(\"http://www.uniprot.org/uniprot/{}.xml\".format(acc))\n",
    "    record = SeqIO.read(handle, \"uniprot-xml\")\n",
    "    # print(\"{}, {}\".format(acc, record.id))\n",
    "    SeqIO.write(record, \"data/hsd_query/{}.fasta\".format(acc), \"fasta\")\n",
    "    records_dict[acc] = record\n",
    "    records.append(record)\n",
    "    SeqIO.write(records, \"data/hsd_12alpha_query_UniProt.fasta\", \"fasta\")"
   ]
  },
  {
   "cell_type": "code",
   "execution_count": 142,
   "metadata": {},
   "outputs": [
    {
     "data": {
      "text/plain": [
       "0"
      ]
     },
     "execution_count": 142,
     "metadata": {},
     "output_type": "execute_result"
    }
   ],
   "source": [
    "# concat all query sequences into one file\n",
    "subprocess.call(\"cat data/hsd_query/*.fasta > data/hsd_query_UniProt.fasta\", stdout=True, shell=True)"
   ]
  },
  {
   "cell_type": "code",
   "execution_count": 10,
   "metadata": {},
   "outputs": [
    {
     "data": {
      "text/plain": [
       "0"
      ]
     },
     "execution_count": 10,
     "metadata": {},
     "output_type": "execute_result"
    }
   ],
   "source": [
    "### build profile hmm model\n",
    "# 3-alpha\n",
    "# mulyiple alignment via MUSCLE\n",
    "subprocess.call(\"muscle3.8.31_i86darwin64 -in data/hsd_3alpha_query_UniProt.fasta \\\n",
    "                                          -out data/hsd_3alpha_query_UniProt.afa\", stdout=True, shell=True)\n",
    "\n",
    "# convert to stockholm format\n",
    "hmm1 = SeqIO.parse(\"data/hsd_3alpha_query_UniProt.afa\", \"fasta\")\n",
    "SeqIO.write(hmm1, \"data/hsd_3alpha_query_UniProt.sto\", \"stockholm\")\n",
    "\n",
    "# build hmm profile\n",
    "subprocess.call(\"hmmbuild data/hsd_3alpha_query_UniProt.hmm \\\n",
    "                          data/hsd_3alpha_query_UniProt.sto \", stdout=True, shell=True)\n",
    "\n",
    "# 7-alpha\n",
    "# mulyiple alignment via MUSCLE\n",
    "subprocess.call(\"muscle3.8.31_i86darwin64 -in data/hsd_7alpha_query_UniProt.fasta \\\n",
    "                                          -out data/hsd_7alpha_query_UniProt.afa\", stdout=True, shell=True)\n",
    "\n",
    "# convert to stockholm format\n",
    "hmm1 = SeqIO.parse(\"data/hsd_7alpha_query_UniProt.afa\", \"fasta\")\n",
    "SeqIO.write(hmm1, \"data/hsd_7alpha_query_UniProt.sto\", \"stockholm\")\n",
    "\n",
    "# build hmm profile\n",
    "subprocess.call(\"hmmbuild data/hsd_7alpha_query_UniProt.hmm \\\n",
    "                          data/hsd_7alpha_query_UniProt.sto \", stdout=True, shell=True)\n",
    "\n",
    "# 12-alpha\n",
    "# mulyiple alignment via MUSCLE\n",
    "subprocess.call(\"muscle3.8.31_i86darwin64 -in data/hsd_12alpha_query_UniProt.fasta \\\n",
    "                                          -out data/hsd_12alpha_query_UniProt.afa\", stdout=True, shell=True)\n",
    "\n",
    "# convert to stockholm format\n",
    "hmm1 = SeqIO.parse(\"data/hsd_12alpha_query_UniProt.afa\", \"fasta\")\n",
    "SeqIO.write(hmm1, \"data/hsd_12alpha_query_UniProt.sto\", \"stockholm\")\n",
    "\n",
    "# build hmm profile\n",
    "subprocess.call(\"hmmbuild data/hsd_12alpha_query_UniProt.hmm \\\n",
    "                          data/hsd_12alpha_query_UniProt.sto \", stdout=True, shell=True)\n"
   ]
  },
  {
   "cell_type": "code",
   "execution_count": 91,
   "metadata": {},
   "outputs": [],
   "source": [
    "# for genome_file in sorted(glob.glob(\"data/genome/*\")):\n",
    "#     genome_id = genome_file.split(\"/\")[-1]\n",
    "#     taxa = metadata[metadata[\"genome_id\"] == genome_id][\"name\"].tolist()[0]\n",
    "    \n",
    "#     # 3-alpha\n",
    "#     subprocess.call(\"hmmsearch data/hsd_3alpha_query_UniProt.hmm \\\n",
    "#                                {}/{}_protein.faa > result/hmm_out/hsd_3alpha/{}.hmm.out\".format(genome_file, genome_id, genome_id), stdout=True, shell=True)\n",
    "    \n",
    "#     # extract hit sequences information\n",
    "#     with open(\"result/hmm_out/hsd_3alpha/{}.hmm.out\".format(genome_id), \"r\") as hmm_out:\n",
    "#         lines = hmm_out.readlines()\n",
    "#         hit_genes = [x.strip()[3:].split()[0] for x in lines if x.startswith(\">>\")]\n",
    "#         # print(hit_genes)\n",
    "        \n",
    "#     # parse genome gff\n",
    "#     gff = open(\"{}/{}_genomic.gff\".format(genome_file, genome_id))\n",
    "#     examiner = GFF.GFFExaminer()\n",
    "#     # print(examiner.available_limits(gff))\n",
    "#     for record in GFF.parse(gff):\n",
    "#         print(record.features[10])\n",
    "#     gff.close()\n",
    "    \n",
    "#     with open(\"result/hmm_out/hsd_3alpha_{}.tsv\".format(genome_id), \"w\") as out:\n",
    "#         print(\"genome_id\\tevalue_full\\tscore_full\\tbias_full\\tevalue_domain\\tscore_domain\\tbias_domain\\texp\\tN\\tgene\", file=out)\n",
    "#         i = 15\n",
    "#         while len(lines[i].strip().split()) > 9:\n",
    "#             hit = lines[i].strip().split()[0:9]\n",
    "#             print(\"{}\\t{}\\t{}\\t{}\\t{}\\t{}\\t{}\\t{}\\t{}\\t{}\".format(genome_id,hit[0],hit[1],hit[2],hit[3],hit[4],hit[5],hit[6],hit[7],hit[8]), file=out)\n",
    "#             i += 1\n",
    "        \n",
    "    "
   ]
  },
  {
   "cell_type": "code",
   "execution_count": 11,
   "metadata": {},
   "outputs": [
    {
     "data": {
      "text/plain": [
       "676"
      ]
     },
     "execution_count": 11,
     "metadata": {},
     "output_type": "execute_result"
    }
   ],
   "source": [
    "hsd_3alpha_hits = []\n",
    "hsd_7alpha_hits = []\n",
    "hsd_12alpha_hits = []\n",
    "\n",
    "for genome_file in sorted(glob.glob(\"data/protein_faa/*.faa\")):\n",
    "    # print(genome_file)\n",
    "    genome_id = genome_file.split(\"/\")[-1][:-12]\n",
    "    taxa = metadata[metadata[\"genome_id\"] == genome_id][\"name\"].tolist()[0]\n",
    "    \n",
    "    # 3-alpha\n",
    "    subprocess.call(\"hmmsearch data/hsd_3alpha_query_UniProt.hmm \\\n",
    "                               {} > result/hmm_out/hsd_3alpha/{}.hmm.out\".format(genome_file, genome_id), stdout=True, shell=True)\n",
    "    \n",
    "    # 7-alpha\n",
    "    subprocess.call(\"hmmsearch data/hsd_7alpha_query_UniProt.hmm \\\n",
    "                               {} > result/hmm_out/hsd_7alpha/{}.hmm.out\".format(genome_file, genome_id), stdout=True, shell=True)\n",
    "    \n",
    "    # 12-alpha\n",
    "    subprocess.call(\"hmmsearch data/hsd_12alpha_query_UniProt.hmm \\\n",
    "                               {} > result/hmm_out/hsd_12alpha/{}.hmm.out\".format(genome_file, genome_id), stdout=True, shell=True)\n",
    "    \n",
    "    ### extract hit sequences\n",
    "    with open(\"result/hmm_out/hsd_3alpha/{}.hmm.out\".format(genome_id), \"r\") as hmm_out:\n",
    "        lines = hmm_out.readlines()\n",
    "        hit_seqs = [x.strip()[3:].split()[0] for x in lines if x.startswith(\">>\")]\n",
    "        # hit_seqs = set(hit_seqs)\n",
    "        \n",
    "        # all protein sequences\n",
    "        all_seqs = SeqIO.parse(genome_file, \"fasta\")\n",
    "\n",
    "        if len(hit_seqs) > 0:\n",
    "            # append all record to a list\n",
    "            hsd_3alpha_hits = hsd_3alpha_hits + [seq for seq in all_seqs if seq.id in hit_seqs]\n",
    "            \n",
    "    with open(\"result/hmm_out/hsd_7alpha/{}.hmm.out\".format(genome_id), \"r\") as hmm_out:\n",
    "        lines = hmm_out.readlines()\n",
    "        hit_seqs = [x.strip()[3:].split()[0] for x in lines if x.startswith(\">>\")]\n",
    "        # hit_seqs = set(hit_seqs)\n",
    "        \n",
    "        # all protein sequences\n",
    "        all_seqs = SeqIO.parse(genome_file, \"fasta\")\n",
    "        \n",
    "        if len(hit_seqs) > 0:\n",
    "            # append all record to a list\n",
    "            hsd_7alpha_hits = hsd_7alpha_hits + [seq for seq in all_seqs if seq.id in hit_seqs]\n",
    "            \n",
    "    with open(\"result/hmm_out/hsd_12alpha/{}.hmm.out\".format(genome_id), \"r\") as hmm_out:\n",
    "        lines = hmm_out.readlines()\n",
    "        hit_seqs = [x.strip()[3:].split()[0] for x in lines if x.startswith(\">>\")]\n",
    "        # hit_seqs = set(hit_seqs)\n",
    "        \n",
    "        # all protein sequences\n",
    "        all_seqs = SeqIO.parse(genome_file, \"fasta\")\n",
    "        \n",
    "        if len(hit_seqs) > 0:\n",
    "            # append all record to a list\n",
    "            hsd_12alpha_hits = hsd_12alpha_hits + [seq for seq in all_seqs if seq.id in hit_seqs]\n",
    "            \n",
    "SeqIO.write(hsd_3alpha_hits, \"result/hmm_out/hsd_3alpha_hmm_hits.fasta\", \"fasta\")\n",
    "SeqIO.write(hsd_7alpha_hits, \"result/hmm_out/hsd_7alpha_hmm_hits.fasta\", \"fasta\")\n",
    "SeqIO.write(hsd_12alpha_hits, \"result/hmm_out/hsd_12alpha_hmm_hits.fasta\", \"fasta\")          "
   ]
  },
  {
   "cell_type": "code",
   "execution_count": 12,
   "metadata": {},
   "outputs": [],
   "source": [
    "### table to store hmm hits information\n",
    "# 3-alpha\n",
    "hmm_outs = sorted(glob.glob(\"result/hmm_out/hsd_3alpha/*.hmm.out\"))\n",
    "with open(\"result/hmm_out/hsd_3alpha_hits.tsv\", \"w\") as out:\n",
    "    print(\"genome_id\\tgenome_id_long\\tevalue_full\\tscore_full\\tbias_full\\tevalue_domain\\tscore_domain\\tbias_domain\\texp\\tN\\tgene\", file=out)\n",
    "    \n",
    "    for hmm_out in hmm_outs:\n",
    "        genome_id_long = hmm_out.split(\"/\")[-1][:-8]\n",
    "        genome_id = hmm_out.split(\"/\")[-1][0:15]\n",
    "        with open(hmm_out, \"r\") as hmm_out_file:\n",
    "            lines = hmm_out_file.readlines()\n",
    "            i = 15\n",
    "            while len(lines[i].strip().split()) > 9:\n",
    "                hit = lines[i].strip().split()[0:9]\n",
    "                print(\"{}\\t{}\\t{}\\t{}\\t{}\\t{}\\t{}\\t{}\\t{}\\t{}\\t{}\".format(genome_id,genome_id_long,hit[0],hit[1],hit[2],hit[3],hit[4],hit[5],hit[6],hit[7],hit[8]), file=out)\n",
    "                i += 1\n",
    "# 7-alpha\n",
    "hmm_outs = sorted(glob.glob(\"result/hmm_out/hsd_7alpha/*.hmm.out\"))\n",
    "with open(\"result/hmm_out/hsd_7alpha_hits.tsv\", \"w\") as out:\n",
    "    print(\"genome_id\\tgenome_id_long\\tevalue_full\\tscore_full\\tbias_full\\tevalue_domain\\tscore_domain\\tbias_domain\\texp\\tN\\tgene\", file=out)\n",
    "    \n",
    "    for hmm_out in hmm_outs:\n",
    "        genome_id_long = hmm_out.split(\"/\")[-1][:-8]\n",
    "        genome_id = hmm_out.split(\"/\")[-1][0:15]\n",
    "        with open(hmm_out, \"r\") as hmm_out_file:\n",
    "            lines = hmm_out_file.readlines()\n",
    "            i = 15\n",
    "            while len(lines[i].strip().split()) > 9:\n",
    "                hit = lines[i].strip().split()[0:9]\n",
    "                print(\"{}\\t{}\\t{}\\t{}\\t{}\\t{}\\t{}\\t{}\\t{}\\t{}\\t{}\".format(genome_id,genome_id_long,hit[0],hit[1],hit[2],hit[3],hit[4],hit[5],hit[6],hit[7],hit[8]), file=out)\n",
    "                i += 1\n",
    "                \n",
    "# 12-alpha\n",
    "hmm_outs = sorted(glob.glob(\"result/hmm_out/hsd_12alpha/*.hmm.out\"))\n",
    "with open(\"result/hmm_out/hsd_12alpha_hits.tsv\", \"w\") as out:\n",
    "    print(\"genome_id\\tgenome_id_long\\tevalue_full\\tscore_full\\tbias_full\\tevalue_domain\\tscore_domain\\tbias_domain\\texp\\tN\\tgene\", file=out)\n",
    "    \n",
    "    for hmm_out in hmm_outs:\n",
    "        genome_id_long = hmm_out.split(\"/\")[-1][:-8]\n",
    "        genome_id = hmm_out.split(\"/\")[-1][0:15]\n",
    "        with open(hmm_out, \"r\") as hmm_out_file:\n",
    "            lines = hmm_out_file.readlines()\n",
    "            i = 15\n",
    "            while len(lines[i].strip().split()) > 9:\n",
    "                hit = lines[i].strip().split()[0:9]\n",
    "                print(\"{}\\t{}\\t{}\\t{}\\t{}\\t{}\\t{}\\t{}\\t{}\\t{}\\t{}\".format(genome_id,genome_id_long,hit[0],hit[1],hit[2],hit[3],hit[4],hit[5],hit[6],hit[7],hit[8]), file=out)\n",
    "                i += 1"
   ]
  },
  {
   "cell_type": "markdown",
   "metadata": {},
   "source": [
    "### Concat hit seq with query seq for phylogenetic"
   ]
  },
  {
   "cell_type": "code",
   "execution_count": 13,
   "metadata": {},
   "outputs": [
    {
     "data": {
      "text/plain": [
       "653"
      ]
     },
     "execution_count": 13,
     "metadata": {},
     "output_type": "execute_result"
    }
   ],
   "source": [
    "# remove non-unique genes\n",
    "seqs3 = SeqIO.parse(\"result/hmm_out/hsd_3alpha_hmm_hits.fasta\", \"fasta\")\n",
    "seqs3_gene = []\n",
    "seqs3_out = []\n",
    "for seq in seqs3:\n",
    "    if seq.id not in seqs3_gene:\n",
    "        seq.description = seq.description.replace(\":\", \"\")\n",
    "        seq.description = seq.description.replace(\",\", \" \")\n",
    "        seqs3_out.append(seq)\n",
    "        seqs3_gene.append(seq.id)\n",
    "SeqIO.write(seqs3_out, \"result/hsd_3alpha_hmm_hits_NR.fa\", \"fasta\")\n",
    "\n",
    "seqs7 = SeqIO.parse(\"result/hmm_out/hsd_7alpha_hmm_hits.fasta\", \"fasta\")\n",
    "seqs7_gene = []\n",
    "seqs7_out = []\n",
    "for seq in seqs7:\n",
    "    if seq.id not in seqs7_gene:\n",
    "        seq.description = seq.description.replace(\":\", \"\")\n",
    "        seq.description = seq.description.replace(\",\", \" \")\n",
    "        seqs7_out.append(seq)\n",
    "        seqs7_gene.append(seq.id)\n",
    "SeqIO.write(seqs7_out, \"result/hsd_7alpha_hmm_hits_NR.fa\", \"fasta\")\n",
    "\n",
    "seqs12 = SeqIO.parse(\"result/hmm_out/hsd_12alpha_hmm_hits.fasta\", \"fasta\")\n",
    "seqs12_gene = []\n",
    "seqs12_out = []\n",
    "for seq in seqs12:\n",
    "    if seq.id not in seqs12_gene:\n",
    "        seq.description = seq.description.replace(\":\", \"\")\n",
    "        seq.description = seq.description.replace(\",\", \" \")\n",
    "        seqs12_out.append(seq)\n",
    "        seqs12_gene.append(seq.id)\n",
    "SeqIO.write(seqs12_out, \"result/hsd_12alpha_hmm_hits_NR.fa\", \"fasta\")\n"
   ]
  },
  {
   "cell_type": "code",
   "execution_count": 39,
   "metadata": {},
   "outputs": [
    {
     "name": "stdout",
     "output_type": "stream",
     "text": [
      "148\n",
      "172\n",
      "110\n"
     ]
    }
   ],
   "source": [
    "# filter query genes:\n",
    "# 1) global score > 100\n",
    "# 2) gene length between 200-350bp\n",
    "\n",
    "hit_3alpha = pd.read_csv(\"result/hsd_3alpha_hits_merge.csv\", sep=\",\")\n",
    "hit_3alpha_gene = hit_3alpha[hit_3alpha['score_full'] > 125]['gene'].tolist()\n",
    "print(len(hit_3alpha_gene))\n",
    "\n",
    "hit_7alpha = pd.read_csv(\"result/hsd_7alpha_hits_merge.csv\", sep=\",\")\n",
    "hit_7alpha_gene = hit_7alpha[hit_7alpha['score_full'] > 170]['gene'].tolist()\n",
    "print(len(hit_7alpha_gene))\n",
    "\n",
    "hit_12alpha = pd.read_csv(\"result/hsd_12alpha_hits_merge.csv\", sep=\",\")\n",
    "hit_12alpha_gene = hit_12alpha[hit_12alpha['score_full'] > 100]['gene'].tolist()\n",
    "print(len(hit_12alpha_gene))"
   ]
  },
  {
   "cell_type": "code",
   "execution_count": 99,
   "metadata": {},
   "outputs": [
    {
     "data": {
      "text/plain": [
       "(array([  5.,   7.,  73., 529.,   7.,   2.,  10.,   1.,  11.,   8.]),\n",
       " array([ 42. , 109.2, 176.4, 243.6, 310.8, 378. , 445.2, 512.4, 579.6,\n",
       "        646.8, 714. ]),\n",
       " <a list of 10 Patch objects>)"
      ]
     },
     "execution_count": 99,
     "metadata": {},
     "output_type": "execute_result"
    },
    {
     "data": {
      "image/png": "[encoded data removed]",
      "text/plain": [
       "<Figure size 432x288 with 1 Axes>"
      ]
     },
     "metadata": {
      "needs_background": "light"
     },
     "output_type": "display_data"
    },
    {
     "data": {
      "image/png": "[encoded data removed]",
      "text/plain": [
       "<Figure size 432x288 with 1 Axes>"
      ]
     },
     "metadata": {
      "needs_background": "light"
     },
     "output_type": "display_data"
    },
    {
     "data": {
      "image/png": "[encoded data removed]",
      "text/plain": [
       "<Figure size 432x288 with 1 Axes>"
      ]
     },
     "metadata": {
      "needs_background": "light"
     },
     "output_type": "display_data"
    }
   ],
   "source": [
    "all_seqs_3alpha = SeqIO.parse(\"result/hsd_3alpha_hmm_hits_NR.fa\", \"fasta\")\n",
    "plt.figure(1)\n",
    "plt.hist([len(seq.seq) for seq in all_seqs_3alpha])\n",
    "\n",
    "plt.figure(2)\n",
    "all_seqs_7alpha = SeqIO.parse(\"result/hsd_7alpha_hmm_hits_NR.fa\", \"fasta\")\n",
    "plt.hist([len(seq.seq) for seq in all_seqs_7alpha])\n",
    "\n",
    "plt.figure(3)\n",
    "all_seqs_12alpha = SeqIO.parse(\"result/hsd_12alpha_hmm_hits_NR.fa\", \"fasta\")\n",
    "plt.hist([len(seq.seq) for seq in all_seqs_12alpha])"
   ]
  },
  {
   "cell_type": "code",
   "execution_count": 41,
   "metadata": {},
   "outputs": [
    {
     "data": {
      "text/plain": [
       "107"
      ]
     },
     "execution_count": 41,
     "metadata": {},
     "output_type": "execute_result"
    }
   ],
   "source": [
    "all_seqs_3alpha = SeqIO.parse(\"result/hsd_3alpha_hmm_hits_NR.fa\", \"fasta\")\n",
    "filtered_seqs_3alpha = [seq for seq in all_seqs_3alpha if seq.id in hit_3alpha_gene and len(seq.seq) >= 200 and len(seq.seq) <= 350]\n",
    "SeqIO.write(filtered_seqs_3alpha, \"result/hsd_3alpha_hmm_hits_NR_filtered.fa\", \"fasta\")\n",
    "\n",
    "all_seqs_7alpha = SeqIO.parse(\"result/hsd_7alpha_hmm_hits_NR.fa\", \"fasta\")\n",
    "filtered_seqs_7alpha = [seq for seq in all_seqs_7alpha if seq.id in hit_7alpha_gene and len(seq.seq) >= 200 and len(seq.seq) <= 350]\n",
    "SeqIO.write(filtered_seqs_7alpha, \"result/hsd_7alpha_hmm_hits_NR_filtered.fa\", \"fasta\")\n",
    "\n",
    "all_seqs_12alpha = SeqIO.parse(\"result/hsd_12alpha_hmm_hits_NR.fa\", \"fasta\")\n",
    "filtered_seqs_12alpha = [seq for seq in all_seqs_12alpha if seq.id in hit_12alpha_gene and len(seq.seq) >= 200 and len(seq.seq) <= 350]\n",
    "SeqIO.write(filtered_seqs_12alpha, \"result/hsd_12alpha_hmm_hits_NR_filtered.fa\", \"fasta\")"
   ]
  },
  {
   "cell_type": "code",
   "execution_count": 42,
   "metadata": {},
   "outputs": [
    {
     "data": {
      "text/plain": [
       "0"
      ]
     },
     "execution_count": 42,
     "metadata": {},
     "output_type": "execute_result"
    }
   ],
   "source": [
    "# concat query seq with hit seq\n",
    "subprocess.call(\"cat data/hsd_3alpha_query_UniProt.fasta \\\n",
    "                     result/hsd_3alpha_hmm_hits_NR_filtered.fa > result/hsd_3alpha_concat.fa\", stdout=True, shell=True)\n",
    "subprocess.call(\"cat data/hsd_7alpha_query_UniProt.fasta \\\n",
    "                     result/hsd_7alpha_hmm_hits_NR_filtered.fa > result/hsd_7alpha_concat.fa\", stdout=True, shell=True)\n",
    "subprocess.call(\"cat data/hsd_12alpha_query_UniProt.fasta \\\n",
    "                     result/hsd_12alpha_hmm_hits_NR_filtered.fa > result/hsd_12alpha_concat.fa\", stdout=True, shell=True)\n"
   ]
  },
  {
   "cell_type": "code",
   "execution_count": 43,
   "metadata": {},
   "outputs": [
    {
     "data": {
      "text/plain": [
       "0"
      ]
     },
     "execution_count": 43,
     "metadata": {},
     "output_type": "execute_result"
    }
   ],
   "source": [
    "# mulyiple alignment via MUSCLE\n",
    "subprocess.call(\"muscle3.8.31_i86darwin64 -in result/hsd_3alpha_concat.fa \\\n",
    "                                          -out result/hsd_3alpha_concat.muscle.afa\", stdout=True, shell=True)\n",
    "subprocess.call(\"muscle3.8.31_i86darwin64 -in result/hsd_7alpha_concat.fa \\\n",
    "                                          -out result/hsd_7alpha_concat.muscle.afa\", stdout=True, shell=True)\n",
    "subprocess.call(\"muscle3.8.31_i86darwin64 -in result/hsd_12alpha_concat.fa \\\n",
    "                                          -out result/hsd_12alpha_concat.muscle.afa\", stdout=True, shell=True)\n"
   ]
  },
  {
   "cell_type": "code",
   "execution_count": 44,
   "metadata": {},
   "outputs": [
    {
     "data": {
      "text/plain": [
       "0"
      ]
     },
     "execution_count": 44,
     "metadata": {},
     "output_type": "execute_result"
    }
   ],
   "source": [
    "# FasrTree to build phylogenetic tree\n",
    "# manual: http://www.microbesonline.org/fasttree/\n",
    "subprocess.call(\"bin/FastTree -gamma -wag result/hsd_3alpha_concat.muscle.afa > result/hsd_3alpha.tree\", stdout=True, shell=True)\n",
    "subprocess.call(\"bin/FastTree -gamma -wag result/hsd_7alpha_concat.muscle.afa > result/hsd_7alpha.tree\", stdout=True, shell=True)\n",
    "subprocess.call(\"bin/FastTree -gamma -wag result/hsd_12alpha_concat.muscle.afa > result/hsd_12alpha.tree\", stdout=True, shell=True)"
   ]
  },
  {
   "cell_type": "code",
   "execution_count": 45,
   "metadata": {},
   "outputs": [],
   "source": [
    "# draw tree, 3-alpha\n",
    "tree_newick = open(\"result/hsd_3alpha.tree\", \"r\").readlines()[0].strip()\n",
    "\n",
    "# rename each gene\n",
    "hit_3alpha = pd.read_csv(\"result/hsd_3alpha_hits_merge.csv\", sep=\",\")\n",
    "obs_3alpha = []\n",
    "for i in range(hit_3alpha.shape[0]):\n",
    "    tree_newick = tree_newick.replace(hit_3alpha['gene'][i], hit_3alpha['gene'][i]+'|'+hit_3alpha['name'][i])\n",
    "    if not np.isnan(hit_3alpha['obs_3'][i]):\n",
    "        obs_3alpha.append(hit_3alpha['gene'][i])\n",
    "\n",
    "tree = toytree.tree(tree_newick)\n",
    "colorlist = [\"#d6557c\" if len(tip.split(\"|\"))==1 else \"#5384a3\" if tip.split(\"|\")[0] in obs_3alpha else \"grey\" for tip in tree.get_tip_labels()]\n",
    "canvas, axes, mark = tree.draw(use_edge_lengths=True, scalebar=True, width=1000, height=2000, tip_labels_colors=colorlist)\n",
    "toyplot.pdf.render(canvas, \"figure/hmm_3alpha_HSD.pdf\")"
   ]
  },
  {
   "cell_type": "code",
   "execution_count": 46,
   "metadata": {},
   "outputs": [],
   "source": [
    "# draw tree, 7-alpha\n",
    "tree_newick = open(\"result/hsd_7alpha.tree\", \"r\").readlines()[0].strip()\n",
    "\n",
    "# rename each gene\n",
    "hit_7alpha = pd.read_csv(\"result/hsd_7alpha_hits_merge.csv\", sep=\",\")\n",
    "obs_7alpha = []\n",
    "for i in range(hit_7alpha.shape[0]):\n",
    "    tree_newick = tree_newick.replace(hit_7alpha['gene'][i], hit_7alpha['gene'][i]+'|'+hit_7alpha['name'][i])\n",
    "    if not np.isnan(hit_7alpha['obs_7'][i]):\n",
    "        obs_7alpha.append(hit_7alpha['gene'][i])\n",
    "\n",
    "tree = toytree.tree(tree_newick)\n",
    "colorlist = [\"#d6557c\" if len(tip.split(\"|\"))==1 else \"#5384a3\" if tip.split(\"|\")[0] in obs_7alpha else \"grey\" for tip in tree.get_tip_labels()]\n",
    "canvas, axes, mark = tree.draw(use_edge_lengths=True, scalebar=True, width=1000, height=2000, tip_labels_colors=colorlist)\n",
    "toyplot.pdf.render(canvas, \"figure/hmm_7alpha_HSD.pdf\")"
   ]
  },
  {
   "cell_type": "code",
   "execution_count": 47,
   "metadata": {},
   "outputs": [],
   "source": [
    "# draw tree, 12-alpha\n",
    "tree_newick = open(\"result/hsd_12alpha.tree\", \"r\").readlines()[0].strip()\n",
    "\n",
    "# rename each gene\n",
    "hit_12alpha = pd.read_csv(\"result/hsd_12alpha_hits_merge.csv\", sep=\",\")\n",
    "obs_12alpha = []\n",
    "for i in range(hit_12alpha.shape[0]):\n",
    "    tree_newick = tree_newick.replace(hit_12alpha['gene'][i], hit_12alpha['gene'][i]+'|'+hit_12alpha['name'][i])\n",
    "    if not np.isnan(hit_12alpha['obs_12'][i]):\n",
    "        obs_12alpha.append(hit_12alpha['gene'][i])\n",
    "\n",
    "tree = toytree.tree(tree_newick)\n",
    "colorlist = [\"#d6557c\" if len(tip.split(\"|\"))==1 else \"#5384a3\" if tip.split(\"|\")[0] in obs_12alpha else \"grey\" for tip in tree.get_tip_labels()]\n",
    "canvas, axes, mark = tree.draw(use_edge_lengths=True, scalebar=True, width=1000, height=2000, tip_labels_colors=colorlist)\n",
    "toyplot.pdf.render(canvas, \"figure/hmm_12alpha_HSD.pdf\")"
   ]
  },
  {
   "cell_type": "markdown",
   "metadata": {},
   "source": [
    "## Bile salt hydrolase (BSH)\n",
    "\n",
    "- `Q06115`, `P54965`, `Q9KK62`"
   ]
  },
  {
   "cell_type": "code",
   "execution_count": 3,
   "metadata": {},
   "outputs": [
    {
     "data": {
      "text/plain": [
       "76"
      ]
     },
     "execution_count": 3,
     "metadata": {},
     "output_type": "execute_result"
    }
   ],
   "source": [
    "acc_bsh = ['Q06115', 'P54965', 'Q9KK62']\n",
    "\n",
    "# download query protein sequences from UniProt\n",
    "records = []\n",
    "records_dict = {}\n",
    "for acc in acc_bsh:\n",
    "    handle = urllib.request.urlopen(\"http://www.uniprot.org/uniprot/{}.xml\".format(acc))\n",
    "    record = SeqIO.read(handle, \"uniprot-xml\")\n",
    "    # print(\"{}, {}\".format(acc, record.id))\n",
    "    SeqIO.write(record, \"data/hsd_query/{}.fasta\".format(acc), \"fasta\")\n",
    "    records_dict[acc] = record\n",
    "    records.append(record)\n",
    "    SeqIO.write(records, \"data/bsh_query_UniProt.fasta\", \"fasta\")\n",
    "\n",
    "### build profile hmm model\n",
    "# mulyiple alignment via MUSCLE\n",
    "subprocess.call(\"muscle3.8.31_i86darwin64 -in data/bsh_query_UniProt.fasta \\\n",
    "                                          -out data/bsh_query_UniProt.afa\", stdout=True, shell=True)\n",
    "\n",
    "# convert to stockholm format\n",
    "hmm1 = SeqIO.parse(\"data/bsh_query_UniProt.afa\", \"fasta\")\n",
    "SeqIO.write(hmm1, \"data/bsh_query_UniProt.sto\", \"stockholm\")\n",
    "\n",
    "# build hmm profile\n",
    "subprocess.call(\"hmmbuild data/bsh_query_UniProt.hmm \\\n",
    "                          data/bsh_query_UniProt.sto \", stdout=True, shell=True)\n",
    "\n",
    "# perform profile hmm\n",
    "bsh_hits = []\n",
    "\n",
    "for genome_file in sorted(glob.glob(\"data/protein_faa/*.faa\")):\n",
    "    genome_id = genome_file.split(\"/\")[-1][:-12]\n",
    "    taxa = metadata[metadata[\"genome_id\"] == genome_id][\"name\"].tolist()[0]\n",
    "    \n",
    "    subprocess.call(\"hmmsearch data/bsh_query_UniProt.hmm \\\n",
    "                               {} > result/hmm_out/bsh/{}.hmm.out\".format(genome_file, genome_id), stdout=True, shell=True)\n",
    " \n",
    "    ### extract hit sequences\n",
    "    with open(\"result/hmm_out/bsh/{}.hmm.out\".format(genome_id), \"r\") as hmm_out:\n",
    "        lines = hmm_out.readlines()\n",
    "        hit_seqs = [x.strip()[3:].split()[0] for x in lines if x.startswith(\">>\")]\n",
    "        # hit_seqs = set(hit_seqs)\n",
    "        \n",
    "        # all protein sequences\n",
    "        all_seqs = SeqIO.parse(genome_file, \"fasta\")\n",
    "\n",
    "        if len(hit_seqs) > 0:\n",
    "            # append all record to a list\n",
    "            bsh_hits = bsh_hits + [seq for seq in all_seqs if seq.id in hit_seqs]\n",
    "            \n",
    "SeqIO.write(bsh_hits, \"result/hmm_out/bsh_hmm_hits.fasta\", \"fasta\")\n",
    "\n",
    "### table to store hmm hits information\n",
    "hmm_outs = sorted(glob.glob(\"result/hmm_out/bsh/*.hmm.out\"))\n",
    "with open(\"result/hmm_out/bsh_hits.tsv\", \"w\") as out:\n",
    "    print(\"genome_id\\tgenome_id_long\\tevalue_full\\tscore_full\\tbias_full\\tevalue_domain\\tscore_domain\\tbias_domain\\texp\\tN\\tgene\", file=out)\n",
    "    \n",
    "    for hmm_out in hmm_outs:\n",
    "        genome_id_long = hmm_out.split(\"/\")[-1][:-8]\n",
    "        genome_id = hmm_out.split(\"/\")[-1][0:15]\n",
    "        with open(hmm_out, \"r\") as hmm_out_file:\n",
    "            lines = hmm_out_file.readlines()\n",
    "            i = 15\n",
    "            while len(lines[i].strip().split()) > 9:\n",
    "                hit = lines[i].strip().split()[0:9]\n",
    "                print(\"{}\\t{}\\t{}\\t{}\\t{}\\t{}\\t{}\\t{}\\t{}\\t{}\\t{}\".format(genome_id,genome_id_long,hit[0],hit[1],hit[2],hit[3],hit[4],hit[5],hit[6],hit[7],hit[8]), file=out)\n",
    "                i += 1\n",
    "                \n",
    "# remove non-unique genes\n",
    "seqs = SeqIO.parse(\"result/hmm_out/bsh_hmm_hits.fasta\", \"fasta\")\n",
    "seqs_gene = []\n",
    "seqs_out = []\n",
    "for seq in seqs:\n",
    "    if seq.id not in seqs_gene:\n",
    "        seq.description = seq.description.replace(\":\", \"\")\n",
    "        seq.description = seq.description.replace(\",\", \" \")\n",
    "        seqs_out.append(seq)\n",
    "        seqs_gene.append(seq.id)\n",
    "SeqIO.write(seqs_out, \"result/bsh_hmm_hits_NR.fa\", \"fasta\")"
   ]
  },
  {
   "cell_type": "code",
   "execution_count": 8,
   "metadata": {},
   "outputs": [
    {
     "name": "stdout",
     "output_type": "stream",
     "text": [
      "21\n"
     ]
    },
    {
     "data": {
      "text/plain": [
       "0"
      ]
     },
     "execution_count": 8,
     "metadata": {},
     "output_type": "execute_result"
    },
    {
     "data": {
      "image/png": "[encoded data removed]",
      "text/plain": [
       "<Figure size 432x288 with 1 Axes>"
      ]
     },
     "metadata": {
      "needs_background": "light"
     },
     "output_type": "display_data"
    }
   ],
   "source": [
    "# filter query genes:\n",
    "# 1) global score > 75\n",
    "# 2) gene length between >270bp\n",
    "\n",
    "hit_bsh = pd.read_csv(\"result/bsh_hits_merge.csv\", sep=\",\")\n",
    "hit_bsh_gene = hit_bsh[hit_bsh['score_full'] > 75]['gene'].tolist()\n",
    "print(len(hit_bsh_gene))\n",
    "\n",
    "all_seqs_bsh = SeqIO.parse(\"result/bsh_hmm_hits_NR.fa\", \"fasta\")\n",
    "plt.hist([len(seq.seq) for seq in all_seqs_bsh])\n",
    "\n",
    "all_seqs_bsh = SeqIO.parse(\"result/bsh_hmm_hits_NR.fa\", \"fasta\")\n",
    "filtered_seqs_bsh = [seq for seq in all_seqs_bsh if seq.id in hit_bsh_gene and len(seq.seq) >= 270]\n",
    "SeqIO.write(filtered_seqs_bsh, \"result/bsh_hmm_hits_NR_filtered.fa\", \"fasta\")\n",
    "\n",
    "# concat query seq with hit seq\n",
    "subprocess.call(\"cat data/bsh_query_UniProt.fasta \\\n",
    "                     result/bsh_hmm_hits_NR_filtered.fa > result/bsh_concat.fa\", stdout=True, shell=True)\n",
    "\n",
    "# mulyiple alignment via MUSCLE\n",
    "subprocess.call(\"muscle3.8.31_i86darwin64 -in result/bsh_concat.fa \\\n",
    "                                          -out result/bsh_concat.muscle.afa\", stdout=True, shell=True)\n",
    "\n",
    "# FasrTree to build phylogenetic tree\n",
    "# manual: http://www.microbesonline.org/fasttree/\n",
    "subprocess.call(\"bin/FastTree -gamma -wag result/bsh_concat.muscle.afa > result/bsh.tree\", stdout=True, shell=True)"
   ]
  },
  {
   "cell_type": "code",
   "execution_count": 10,
   "metadata": {},
   "outputs": [],
   "source": [
    "# draw tree\n",
    "tree_newick = open(\"result/bsh.tree\", \"r\").readlines()[0].strip()\n",
    "\n",
    "# rename each gene\n",
    "hit_bsh = pd.read_csv(\"result/bsh_hits_merge.csv\", sep=\",\")\n",
    "obs_bsh = []\n",
    "for i in range(hit_bsh.shape[0]):\n",
    "    tree_newick = tree_newick.replace(hit_bsh['gene'][i], hit_bsh['gene'][i]+'|'+hit_bsh['name'][i])\n",
    "\n",
    "tree = toytree.tree(tree_newick)\n",
    "colorlist = [\"#d6557c\" if len(tip.split(\"|\"))==1 else \"grey\" for tip in tree.get_tip_labels()]\n",
    "canvas, axes, mark = tree.draw(use_edge_lengths=True, scalebar=True, width=1000, height=700, tip_labels_colors=colorlist)\n",
    "toyplot.pdf.render(canvas, \"figure/hmm_bsh.pdf\")"
   ]
  },
  {
   "cell_type": "markdown",
   "metadata": {},
   "source": [
    "### Adding genes from high level activities from the experiments\n",
    "\n",
    "Based on the phylogenetic relationship, manually pick the most closest ones in each genome\n",
    "\n",
    "- 3-HSD:\n",
    "    - Collinsella intestinalis: `WP_006723164.1`\n",
    "    - Ruminococcus GM2/1: NA\n",
    "    - Ruminococcus gnavus: `WP_004842535.1`\n",
    "    - Collinsella aerofaciens: `WP_006235022.1`\n",
    "\n",
    "- 7-HSD:\n",
    "    - Bacteroides thetaiotaomicron VPI-5482, `WP_008762708.1`\n",
    "    - Bacteroides intestinalis, `WP_007209579.1`\n",
    "    - Bacteroides xylanisolvens, `CBK69681.1`\n",
    "    - Bacteroides caccae, `WP_005679069.1`\n",
    "    - Bacteroides finegoldii, `WP_004299904.1`\n",
    "    - Bacteroides thetaiotaomicron 7330, same with Bacteroides thetaiotaomicron VPI-5482\n",
    "\n",
    "- 12-HSD:\n",
    "    - Bacteroides thetaiotaomicron VPI-5482: `WP_008766263.1`\n",
    "    - Bacteroides intestinalis: `WP_007211540.1`\n",
    "    - E. coli K12: `WP_000483353.1`\n",
    "    - Eubacterium ramosum: NA\n",
    "    - Coprococcus comes: `EEG88483.1`"
   ]
  },
  {
   "cell_type": "code",
   "execution_count": 2,
   "metadata": {},
   "outputs": [],
   "source": [
    "def search_gene(gene_ids, seqs_file):\n",
    "    '''\n",
    "    Function to search gene record given the gene id from selected genomes.\n",
    "    Input: gene_id\n",
    "    Output: a list of sequence record, BioPython format, non-redundant\n",
    "    \n",
    "    '''\n",
    "    seqs = SeqIO.parse(seqs_file, \"fasta\")\n",
    "    \n",
    "    records = []\n",
    "    ids = []\n",
    "    \n",
    "    # return [seq for seq in seqs if seq.id.startswith(gene_id)]\n",
    "    # return [seq for seq in seqs if seq.id in gene_ids]\n",
    "    \n",
    "    for seq in seqs:\n",
    "        if seq.id in gene_ids and seq.id not in ids:\n",
    "            records.append(seq)\n",
    "            ids.append(seq.id)\n",
    "    \n",
    "    return records"
   ]
  },
  {
   "cell_type": "code",
   "execution_count": 17,
   "metadata": {},
   "outputs": [],
   "source": [
    "def hmm_extra(gene_family):\n",
    "    '''\n",
    "    Function to perform hmm searching adding extra \"seed\" genes from genome, \n",
    "    where high BA activities were observed in experiments\n",
    "    \n",
    "    Input: gene_family, the name of gene family, e.g., 'hsd_3', 'hsd_7', 'hsd_12'\n",
    "    \n",
    "    '''\n",
    "    # concat query\n",
    "    subprocess.call(\"cat data/{}alpha_query_UniProt.fasta data/hsd_query/extra/{}_extra_query.fa > data/extra/{}_query_extra.fa\".format(gene_family,gene_family,gene_family), stdout=True, shell=True)\n",
    "\n",
    "    ### build profile hmm model\n",
    "    # mulyiple alignment via MUSCLE\n",
    "    subprocess.call(\"muscle3.8.31_i86darwin64 -in data/extra/{}_query_extra.fa \\\n",
    "                                              -out data/extra/{}_query_extra.afa\".format(gene_family,gene_family), stdout=True, shell=True)\n",
    "\n",
    "    # convert to stockholm format\n",
    "    hmm1 = SeqIO.parse(\"data/extra/{}_query_extra.afa\".format(gene_family), \"fasta\")\n",
    "    SeqIO.write(hmm1, \"data/extra/{}_query_extra.sto\".format(gene_family), \"stockholm\")\n",
    "\n",
    "    # build hmm profile\n",
    "    subprocess.call(\"hmmbuild data/extra/{}_query_extra.hmm \\\n",
    "                              data/extra/{}_query_extra.sto\".format(gene_family,gene_family), stdout=True, shell=True)\n",
    "\n",
    "    # perform profile hmm\n",
    "    hsd7_hits = []\n",
    "\n",
    "    for genome_file in sorted(glob.glob(\"data/protein_faa/*.faa\")):\n",
    "        genome_id = genome_file.split(\"/\")[-1][:-12]\n",
    "        taxa = metadata[metadata[\"genome_id\"] == genome_id][\"name\"].tolist()[0]\n",
    "\n",
    "        subprocess.call(\"hmmsearch data/extra/{}_query_extra.hmm \\\n",
    "                                   {} > result/hmm_out/{}_extra/{}.hmm.out\".format(gene_family,genome_file,gene_family,genome_id), stdout=True, shell=True)\n",
    "\n",
    "        ### extract hit sequences\n",
    "        with open(\"result/hmm_out/{}_extra/{}.hmm.out\".format(gene_family,genome_id), \"r\") as hmm_out:\n",
    "            lines = hmm_out.readlines()\n",
    "            hit_seqs = [x.strip()[3:].split()[0] for x in lines if x.startswith(\">>\")]\n",
    "            # hit_seqs = set(hit_seqs)\n",
    "\n",
    "            # all protein sequences\n",
    "            all_seqs = SeqIO.parse(genome_file, \"fasta\")\n",
    "\n",
    "            if len(hit_seqs) > 0:\n",
    "                # append all record to a list\n",
    "                hsd7_hits = hsd7_hits + [seq for seq in all_seqs if seq.id in hit_seqs]\n",
    "\n",
    "    SeqIO.write(hsd7_hits, \"result/hmm_out/{}_extra_hmm_hits.fasta\".format(gene_family), \"fasta\")\n",
    "\n",
    "    ### table to store hmm hits information\n",
    "    hmm_outs = sorted(glob.glob(\"result/hmm_out/{}_extra/*.hmm.out\".format(gene_family)))\n",
    "    with open(\"result/hmm_out/{}_extra_hits.tsv\".format(gene_family), \"w\") as out:\n",
    "        print(\"genome_id\\tgenome_id_long\\tevalue_full\\tscore_full\\tbias_full\\tevalue_domain\\tscore_domain\\tbias_domain\\texp\\tN\\tgene\", file=out)\n",
    "\n",
    "        for hmm_out in hmm_outs:\n",
    "            genome_id_long = hmm_out.split(\"/\")[-1][:-8]\n",
    "            genome_id = hmm_out.split(\"/\")[-1][0:15]\n",
    "            with open(hmm_out, \"r\") as hmm_out_file:\n",
    "                lines = hmm_out_file.readlines()\n",
    "                i = 15\n",
    "                while len(lines[i].strip().split()) > 9:\n",
    "                    hit = lines[i].strip().split()[0:9]\n",
    "                    print(\"{}\\t{}\\t{}\\t{}\\t{}\\t{}\\t{}\\t{}\\t{}\\t{}\\t{}\".format(genome_id,genome_id_long,hit[0],hit[1],hit[2],hit[3],hit[4],hit[5],hit[6],hit[7],hit[8]), file=out)\n",
    "                    i += 1\n",
    "\n",
    "    # remove non-unique genes\n",
    "    seqs = SeqIO.parse(\"result/hmm_out/{}_extra_hmm_hits.fasta\".format(gene_family), \"fasta\")\n",
    "    seqs_gene = []\n",
    "    seqs_out = []\n",
    "    for seq in seqs:\n",
    "        if seq.id not in seqs_gene:\n",
    "            seq.description = seq.description.replace(\":\", \"\")\n",
    "            seq.description = seq.description.replace(\",\", \" \")\n",
    "            seqs_out.append(seq)\n",
    "            seqs_gene.append(seq.id)\n",
    "    SeqIO.write(seqs_out, \"result/{}_extra_hmm_hits_NR.fa\".format(gene_family), \"fasta\")"
   ]
  },
  {
   "cell_type": "code",
   "execution_count": 52,
   "metadata": {},
   "outputs": [],
   "source": [
    "def draw_tree(gene_family, min_len, max_len):\n",
    "    '''\n",
    "    Function to draw phylogenetic tree, after merging genes annotation in genome via R\n",
    "    \n",
    "    Input: gene_family, the name of gene family, e.g., 'hsd_3', 'hsd_7', 'hsd_12'\n",
    "           # cutoff: cutoff score of profile hmm hit score, use: 1) median/3nd quantile of all hits; or 2) use average of obs genome hits\n",
    "           min_len: minimal gene length filtering\n",
    "           max_len: maximal gene length filtering\n",
    "    '''\n",
    "    hit_hsd = pd.read_csv(\"result/{}_extra_hits_merge.csv\".format(gene_family), sep=\",\")\n",
    "    plt.hist(hit_hsd['score_full'])\n",
    "\n",
    "    cutoff = np.percentile(hit_hsd['score_full'], 75)\n",
    "    print(\"Cutoff for {} is {}\\n\".format(gene_family, cutoff))\n",
    "    hit_hsd_gene = hit_hsd[hit_hsd['score_full'] > cutoff]['gene'].tolist()\n",
    "    print(len(hit_hsd_gene))\n",
    "\n",
    "    # all_seqs_hsd = SeqIO.parse(\"result/{}_extra_hmm_hits_NR.fa\".format(gene_family), \"fasta\")\n",
    "    # plt.hist([len(seq.seq) for seq in all_seqs_hsd7])\n",
    "\n",
    "    all_seqs_hsd = SeqIO.parse(\"result/{}_extra_hmm_hits_NR.fa\".format(gene_family), \"fasta\")\n",
    "    filtered_seqs_hsd = [seq for seq in all_seqs_hsd if seq.id in hit_hsd_gene and len(seq.seq) >= min_len and len(seq.seq) <= max_len]\n",
    "    SeqIO.write(filtered_seqs_hsd, \"result/{}_extra_hmm_hits_NR_filtered.fa\".format(gene_family), \"fasta\")\n",
    "\n",
    "    # concat query seq with hit seq\n",
    "    subprocess.call(\"cat data/{}alpha_query_UniProt.fasta \\\n",
    "                         result/{}_extra_hmm_hits_NR_filtered.fa > result/{}_extra_concat.fa\".format(gene_family,gene_family,gene_family), stdout=True, shell=True)\n",
    "\n",
    "    # mulyiple alignment via MUSCLE\n",
    "    subprocess.call(\"muscle3.8.31_i86darwin64 -in result/{}_extra_concat.fa \\\n",
    "                                              -out result/{}_extra_concat.muscle.afa\".format(gene_family,gene_family), stdout=True, shell=True)\n",
    "\n",
    "    # FasrTree to build phylogenetic tree\n",
    "    # manual: http://www.microbesonline.org/fasttree/\n",
    "    subprocess.call(\"bin/FastTree -gamma -wag result/{}_extra_concat.muscle.afa > result/{}_extra.tree\".format(gene_family,gene_family), stdout=True, shell=True)\n",
    "    \n",
    "    # draw tree\n",
    "    tree_newick = open(\"result/{}_extra.tree\".format(gene_family), \"r\").readlines()[0].strip()\n",
    "\n",
    "    # rename each gene\n",
    "    hit_hsd_extra = pd.read_csv(\"result/{}_extra_hits_merge.csv\".format(gene_family), sep=\",\")\n",
    "    obs_hsd_extra = []\n",
    "    for i in range(hit_hsd_extra.shape[0]):\n",
    "        tree_newick = tree_newick.replace(hit_hsd_extra['gene'][i], hit_hsd_extra['gene'][i]+'|'+hit_hsd_extra['name'][i])\n",
    "        # 'obs_'+gene_family.split(\"_\")[1] is 'obs_7' for example\n",
    "        if not np.isnan(hit_hsd_extra['obs_'+gene_family.split(\"_\")[1]][i]):\n",
    "            obs_hsd_extra.append(hit_hsd_extra['gene'][i])\n",
    "    tree = toytree.tree(tree_newick)\n",
    "    colorlist = [\"#d6557c\" if len(tip.split(\"|\"))==1 else \"#5384a3\" if tip.split(\"|\")[0] in obs_hsd_extra else \"grey\" for tip in tree.get_tip_labels()]\n",
    "    canvas, axes, mark = tree.draw(use_edge_lengths=True, scalebar=True, width=1000, height=2000, tip_labels_colors=colorlist)\n",
    "    toyplot.pdf.render(canvas, \"figure/hmm_{}_extra.pdf\".format(gene_family))"
   ]
  },
  {
   "cell_type": "code",
   "execution_count": 19,
   "metadata": {},
   "outputs": [],
   "source": [
    "# # concat query\n",
    "# subprocess.call(\"cat data/hsd_7alpha_query_UniProt.fasta data/hsd_query/extra/hsd_7_extra_query.fa > data/extra/hsd_7_query_extra.fa\", stdout=True, shell=True)\n",
    "\n",
    "# ### build profile hmm model\n",
    "# # mulyiple alignment via MUSCLE\n",
    "# subprocess.call(\"muscle3.8.31_i86darwin64 -in data/extra/hsd_7_query_extra.fa \\\n",
    "#                                           -out data/extra/hsd_7_query_extra.afa\", stdout=True, shell=True)\n",
    "\n",
    "# # convert to stockholm format\n",
    "# hmm1 = SeqIO.parse(\"data/extra/hsd_7_query_extra.afa\", \"fasta\")\n",
    "# SeqIO.write(hmm1, \"data/extra/hsd_7_query_extra.sto\", \"stockholm\")\n",
    "\n",
    "# # build hmm profile\n",
    "# subprocess.call(\"hmmbuild data/extra/hsd_7_query_extra.hmm \\\n",
    "#                           data/extra/hsd_7_query_extra.sto \", stdout=True, shell=True)\n",
    "\n",
    "# # perform profile hmm\n",
    "# hsd7_hits = []\n",
    "\n",
    "# for genome_file in sorted(glob.glob(\"data/protein_faa/*.faa\")):\n",
    "#     genome_id = genome_file.split(\"/\")[-1][:-12]\n",
    "#     taxa = metadata[metadata[\"genome_id\"] == genome_id][\"name\"].tolist()[0]\n",
    "    \n",
    "#     subprocess.call(\"hmmsearch data/extra/hsd_7_query_extra.hmm \\\n",
    "#                                {} > result/hmm_out/hsd7_extra/{}.hmm.out\".format(genome_file, genome_id), stdout=True, shell=True)\n",
    " \n",
    "#     ### extract hit sequences\n",
    "#     with open(\"result/hmm_out/hsd7_extra/{}.hmm.out\".format(genome_id), \"r\") as hmm_out:\n",
    "#         lines = hmm_out.readlines()\n",
    "#         hit_seqs = [x.strip()[3:].split()[0] for x in lines if x.startswith(\">>\")]\n",
    "#         # hit_seqs = set(hit_seqs)\n",
    "        \n",
    "#         # all protein sequences\n",
    "#         all_seqs = SeqIO.parse(genome_file, \"fasta\")\n",
    "\n",
    "#         if len(hit_seqs) > 0:\n",
    "#             # append all record to a list\n",
    "#             hsd7_hits = hsd7_hits + [seq for seq in all_seqs if seq.id in hit_seqs]\n",
    "            \n",
    "# SeqIO.write(hsd7_hits, \"result/hmm_out/hsd7_extra_hmm_hits.fasta\", \"fasta\")\n",
    "\n",
    "# ### table to store hmm hits information\n",
    "# hmm_outs = sorted(glob.glob(\"result/hmm_out/hsd7_extra/*.hmm.out\"))\n",
    "# with open(\"result/hmm_out/hsd7_extra_hits.tsv\", \"w\") as out:\n",
    "#     print(\"genome_id\\tgenome_id_long\\tevalue_full\\tscore_full\\tbias_full\\tevalue_domain\\tscore_domain\\tbias_domain\\texp\\tN\\tgene\", file=out)\n",
    "    \n",
    "#     for hmm_out in hmm_outs:\n",
    "#         genome_id_long = hmm_out.split(\"/\")[-1][:-8]\n",
    "#         genome_id = hmm_out.split(\"/\")[-1][0:15]\n",
    "#         with open(hmm_out, \"r\") as hmm_out_file:\n",
    "#             lines = hmm_out_file.readlines()\n",
    "#             i = 15\n",
    "#             while len(lines[i].strip().split()) > 9:\n",
    "#                 hit = lines[i].strip().split()[0:9]\n",
    "#                 print(\"{}\\t{}\\t{}\\t{}\\t{}\\t{}\\t{}\\t{}\\t{}\\t{}\\t{}\".format(genome_id,genome_id_long,hit[0],hit[1],hit[2],hit[3],hit[4],hit[5],hit[6],hit[7],hit[8]), file=out)\n",
    "#                 i += 1\n",
    "                \n",
    "# # remove non-unique genes\n",
    "# seqs = SeqIO.parse(\"result/hmm_out/hsd7_extra_hmm_hits.fasta\", \"fasta\")\n",
    "# seqs_gene = []\n",
    "# seqs_out = []\n",
    "# for seq in seqs:\n",
    "#     if seq.id not in seqs_gene:\n",
    "#         seq.description = seq.description.replace(\":\", \"\")\n",
    "#         seq.description = seq.description.replace(\",\", \" \")\n",
    "#         seqs_out.append(seq)\n",
    "#         seqs_gene.append(seq.id)\n",
    "# SeqIO.write(seqs_out, \"result/hsd7_extra_hmm_hits_NR.fa\", \"fasta\")\n"
   ]
  },
  {
   "cell_type": "code",
   "execution_count": 25,
   "metadata": {},
   "outputs": [],
   "source": [
    "# hit_hsd7 = pd.read_csv(\"result/hsd7_extra_hits_merge.csv\", sep=\",\")\n",
    "# plt.hist(hit_hsd7['score_full'])\n",
    "\n",
    "# hit_hsd7_gene = hit_hsd7[hit_hsd7['score_full'] > 180]['gene'].tolist()\n",
    "# print(len(hit_hsd7_gene))\n",
    "\n",
    "# all_seqs_hsd7 = SeqIO.parse(\"result/hsd7_extra_hmm_hits_NR.fa\", \"fasta\")\n",
    "# # plt.hist([len(seq.seq) for seq in all_seqs_hsd7])\n",
    "\n",
    "# all_seqs_hsd7 = SeqIO.parse(\"result/hsd7_extra_hmm_hits_NR.fa\", \"fasta\")\n",
    "# filtered_seqs_hsd7 = [seq for seq in all_seqs_hsd7 if seq.id in hit_hsd7_gene and len(seq.seq) >= 200 and len(seq.seq) <= 350]\n",
    "# SeqIO.write(filtered_seqs_hsd7, \"result/hsd7_extra_hmm_hits_NR_filtered.fa\", \"fasta\")\n",
    "\n",
    "# # concat query seq with hit seq\n",
    "# subprocess.call(\"cat data/hsd_7alpha_query_UniProt.fasta \\\n",
    "#                      result/hsd7_extra_hmm_hits_NR_filtered.fa > result/hsd7_extra_concat.fa\", stdout=True, shell=True)\n",
    "\n",
    "# # mulyiple alignment via MUSCLE\n",
    "# subprocess.call(\"muscle3.8.31_i86darwin64 -in result/hsd7_extra_concat.fa \\\n",
    "#                                           -out result/hsd7_extra_concat.muscle.afa\", stdout=True, shell=True)\n",
    "\n",
    "# # FasrTree to build phylogenetic tree\n",
    "# # manual: http://www.microbesonline.org/fasttree/\n",
    "# subprocess.call(\"bin/FastTree -gamma -wag result/hsd7_extra_concat.muscle.afa > result/hsd7_extra.tree\", stdout=True, shell=True)"
   ]
  },
  {
   "cell_type": "code",
   "execution_count": 24,
   "metadata": {},
   "outputs": [],
   "source": [
    "# # draw tree\n",
    "# tree_newick = open(\"result/hsd7_extra.tree\", \"r\").readlines()[0].strip()\n",
    "\n",
    "# # rename each gene\n",
    "# hit_hsd7_extra = pd.read_csv(\"result/hsd7_extra_hits_merge.csv\", sep=\",\")\n",
    "# obs_hsd7_extra = []\n",
    "# for i in range(hit_hsd7_extra.shape[0]):\n",
    "#     tree_newick = tree_newick.replace(hit_hsd7_extra['gene'][i], hit_hsd7_extra['gene'][i]+'|'+hit_hsd7_extra['name'][i])\n",
    "#     if not np.isnan(hit_hsd7_extra['obs_7'][i]):\n",
    "#         obs_hsd7_extra.append(hit_hsd7_extra['gene'][i])\n",
    "# tree = toytree.tree(tree_newick)\n",
    "# colorlist = [\"#d6557c\" if len(tip.split(\"|\"))==1 else \"#5384a3\" if tip.split(\"|\")[0] in obs_hsd7_extra else \"grey\" for tip in tree.get_tip_labels()]\n",
    "# canvas, axes, mark = tree.draw(use_edge_lengths=True, scalebar=True, width=1000, height=1700, tip_labels_colors=colorlist)\n",
    "# toyplot.pdf.render(canvas, \"figure/hmm_hsd7_extra.pdf\")"
   ]
  },
  {
   "cell_type": "code",
   "execution_count": 55,
   "metadata": {},
   "outputs": [],
   "source": [
    "hsd_3 = ['WP_006723164.1', 'WP_004842535.1', 'WP_006235022.1']\n",
    "all_protein = 'data/protein_faa_all_genome.faa'\n",
    "\n",
    "SeqIO.write(search_gene(hsd_3, all_protein), \"data/hsd_query/extra/hsd_3_extra_query.fa\", \"fasta\")\n",
    "\n",
    "gene_family = 'hsd_3'\n",
    "hmm_extra(gene_family)"
   ]
  },
  {
   "cell_type": "code",
   "execution_count": 56,
   "metadata": {},
   "outputs": [
    {
     "name": "stdout",
     "output_type": "stream",
     "text": [
      "Cutoff for hsd_3 is 169.05\n",
      "\n",
      "184\n"
     ]
    },
    {
     "data": {
      "image/png": "[encoded data removed]",
      "text/plain": [
       "<Figure size 432x288 with 1 Axes>"
      ]
     },
     "metadata": {
      "needs_background": "light"
     },
     "output_type": "display_data"
    }
   ],
   "source": [
    "# run R\n",
    "# then back to py function\n",
    "draw_tree(gene_family, 200, 350)"
   ]
  },
  {
   "cell_type": "code",
   "execution_count": 57,
   "metadata": {},
   "outputs": [],
   "source": [
    "hsd_7 = ['WP_008762708.1', 'WP_007209579.1', 'CBK69681.1', 'WP_005679069.1', 'WP_004299904.1']\n",
    "all_protein = 'data/protein_faa_all_genome.faa'\n",
    "\n",
    "SeqIO.write(search_gene(hsd_7, all_protein), \"data/hsd_query/extra/hsd_7_extra_query.fa\", \"fasta\")\n",
    "\n",
    "gene_family = 'hsd_7'\n",
    "hmm_extra(gene_family)"
   ]
  },
  {
   "cell_type": "code",
   "execution_count": 58,
   "metadata": {},
   "outputs": [
    {
     "name": "stdout",
     "output_type": "stream",
     "text": [
      "Cutoff for hsd_7 is 184.2\n",
      "\n",
      "176\n"
     ]
    },
    {
     "data": {
      "image/png": "[encoded data removed]",
      "text/plain": [
       "<Figure size 432x288 with 1 Axes>"
      ]
     },
     "metadata": {
      "needs_background": "light"
     },
     "output_type": "display_data"
    }
   ],
   "source": [
    "# run R\n",
    "# then back to py function\n",
    "draw_tree(gene_family, 200, 350)"
   ]
  },
  {
   "cell_type": "code",
   "execution_count": 59,
   "metadata": {},
   "outputs": [],
   "source": [
    "hsd_12 = ['WP_008766263.1', 'WP_007211540.1', 'WP_000483353.1', 'EEG88483.1']\n",
    "all_protein = 'data/protein_faa_all_genome.faa'\n",
    "\n",
    "SeqIO.write(search_gene(hsd_12, all_protein), \"data/hsd_query/extra/hsd_12_extra_query.fa\", \"fasta\")\n",
    "\n",
    "gene_family = 'hsd_12'\n",
    "hmm_extra(gene_family)"
   ]
  },
  {
   "cell_type": "code",
   "execution_count": 60,
   "metadata": {},
   "outputs": [
    {
     "name": "stdout",
     "output_type": "stream",
     "text": [
      "Cutoff for hsd_12 is 189.7\n",
      "\n",
      "202\n"
     ]
    },
    {
     "data": {
      "image/png": "[encoded data removed]",
      "text/plain": [
       "<Figure size 432x288 with 1 Axes>"
      ]
     },
     "metadata": {
      "needs_background": "light"
     },
     "output_type": "display_data"
    }
   ],
   "source": [
    "# run R\n",
    "# then back to py function\n",
    "draw_tree(gene_family, 200, 350)"
   ]
  },
  {
   "cell_type": "markdown",
   "metadata": {},
   "source": [
    "### search all query genes to 3 original profile hmm\n",
    "\n",
    "w/o adding extra genes from genome"
   ]
  },
  {
   "cell_type": "code",
   "execution_count": 63,
   "metadata": {},
   "outputs": [],
   "source": [
    "# 3-alpha\n",
    "subprocess.call(\"hmmsearch data/hsd_3alpha_query_UniProt.hmm \\\n",
    "                           data/hsd_query_UniProt.fasta > result/hmm_out/all_query_to_hsd_3.hmm.out\", stdout=True, shell=True)\n",
    "# 7-alpha\n",
    "subprocess.call(\"hmmsearch data/hsd_7alpha_query_UniProt.hmm \\\n",
    "                           data/hsd_query_UniProt.fasta > result/hmm_out/all_query_to_hsd_7.hmm.out\", stdout=True, shell=True)\n",
    "# 12-alpha\n",
    "subprocess.call(\"hmmsearch data/hsd_12alpha_query_UniProt.hmm \\\n",
    "                           data/hsd_query_UniProt.fasta > result/hmm_out/all_query_to_hsd_12.hmm.out\", stdout=True, shell=True)\n",
    "\n",
    "### table to store hmm hits information\n",
    "with open(\"result/hmm_out/all_query_to_hsd_3_hits.tsv\", \"w\") as out:\n",
    "    print(\"evalue_full\\tscore_full\\tbias_full\\tevalue_domain\\tscore_domain\\tbias_domain\\texp\\tN\\tgene\", file=out)\n",
    "    with open(\"result/hmm_out/all_query_to_hsd_3.hmm.out\", \"r\") as hmm_out_file:\n",
    "        lines = hmm_out_file.readlines()\n",
    "        i = 15\n",
    "        while len(lines[i].strip().split()) > 9:\n",
    "            hit = lines[i].strip().split()[0:9]\n",
    "            print(\"{}\\t{}\\t{}\\t{}\\t{}\\t{}\\t{}\\t{}\\t{}\".format(hit[0],hit[1],hit[2],hit[3],hit[4],hit[5],hit[6],hit[7],hit[8]), file=out)\n",
    "            i += 1\n",
    "\n",
    "### table to store hmm hits information\n",
    "with open(\"result/hmm_out/all_query_to_hsd_7_hits.tsv\", \"w\") as out:\n",
    "    print(\"evalue_full\\tscore_full\\tbias_full\\tevalue_domain\\tscore_domain\\tbias_domain\\texp\\tN\\tgene\", file=out)\n",
    "    with open(\"result/hmm_out/all_query_to_hsd_7.hmm.out\", \"r\") as hmm_out_file:\n",
    "        lines = hmm_out_file.readlines()\n",
    "        i = 15\n",
    "        while len(lines[i].strip().split()) > 9:\n",
    "            hit = lines[i].strip().split()[0:9]\n",
    "            print(\"{}\\t{}\\t{}\\t{}\\t{}\\t{}\\t{}\\t{}\\t{}\".format(hit[0],hit[1],hit[2],hit[3],hit[4],hit[5],hit[6],hit[7],hit[8]), file=out)\n",
    "            i += 1\n",
    "\n",
    "### table to store hmm hits information\n",
    "with open(\"result/hmm_out/all_query_to_hsd_12_hits.tsv\", \"w\") as out:\n",
    "    print(\"evalue_full\\tscore_full\\tbias_full\\tevalue_domain\\tscore_domain\\tbias_domain\\texp\\tN\\tgene\", file=out)\n",
    "    with open(\"result/hmm_out/all_query_to_hsd_12.hmm.out\", \"r\") as hmm_out_file:\n",
    "        lines = hmm_out_file.readlines()\n",
    "        i = 15\n",
    "        while len(lines[i].strip().split()) > 9:\n",
    "            hit = lines[i].strip().split()[0:9]\n",
    "            print(\"{}\\t{}\\t{}\\t{}\\t{}\\t{}\\t{}\\t{}\\t{}\".format(hit[0],hit[1],hit[2],hit[3],hit[4],hit[5],hit[6],hit[7],hit[8]), file=out)\n",
    "            i += 1\n"
   ]
  },
  {
   "cell_type": "markdown",
   "metadata": {},
   "source": [
    "### phylogenetic for predicted genes and \"seed\" genes"
   ]
  },
  {
   "cell_type": "code",
   "execution_count": 143,
   "metadata": {},
   "outputs": [],
   "source": [
    "hmm_out = pd.read_csv(\"result/hmm_out_hsd_genes_20210419.csv\", sep=\",\")\n",
    "genes_3 = hmm_out[hmm_out['hmm_3'] == 3.0]['gene'].tolist()\n",
    "genes_7 = hmm_out[hmm_out['hmm_7'] == 7.0]['gene'].tolist()\n",
    "genes_12 = hmm_out[hmm_out['hmm_12'] == 12.0]['gene'].tolist()\n",
    "\n",
    "genes = list(set(genes_3+ genes_7+ genes_12))\n",
    "\n",
    "all_protein = 'data/protein_faa_all_genome.faa'\n",
    "SeqIO.write(search_gene(genes, all_protein), \"result/hmm_out_genes.fa\", \"fasta\")\n",
    "\n",
    "# concat \n",
    "subprocess.call(\"cat data/hsd_query_UniProt.fasta result/hmm_out_genes.fa > result/hmm_out_merge_with_query.fa\", stdout=True, shell=True)\n",
    "\n",
    "# mulyiple alignment via MUSCLE\n",
    "subprocess.call(\"muscle3.8.31_i86darwin64 -in result/hmm_out_merge_with_query.fa \\\n",
    "                                          -out result/hmm_out_merge_with_query.muscle.afa\", stdout=True, shell=True)\n",
    "\n",
    "# FasrTree to build phylogenetic tree\n",
    "# manual: http://www.microbesonline.org/fasttree/\n",
    "subprocess.call(\"bin/FastTree -gamma -wag result/hmm_out_merge_with_query.muscle.afa > result/hmm_out_merge_with_query.tree\".format(gene_family,gene_family), stdout=True, shell=True)\n",
    "\n",
    "# draw tree\n",
    "tree_newick = open(\"result/hmm_out_merge_with_query.tree\", \"r\").readlines()[0].strip()\n",
    "\n",
    "# rename each gene\n",
    "hmm_out_filter = hmm_out[hmm_out.gene.isin([x for x in hmm_out['gene'].tolist() if x in genes])]\n",
    "for i in range(hmm_out_filter.shape[0]):\n",
    "    tree_newick = tree_newick.replace(hmm_out_filter['gene'].tolist()[i], hmm_out_filter['gene'].tolist()[i]+'|'+hmm_out_filter['name'].tolist()[i])\n",
    "    \n",
    "acc_3alpha = ['P80702', 'Q59718', 'A7B3K3', 'C8WMP0', 'P19337', 'P07914']\n",
    "acc_7alpha = ['P0AET8', 'Q5LA59', 'G9FRD7', 'P50200', 'Q8YIN7']\n",
    "acc_12alpha = ['P21215', 'R7AM69', 'C8WLK7', 'C0BWQ2', 'B0NG52', 'B6FYX7']\n",
    "\n",
    "tree = toytree.tree(tree_newick)\n",
    "colorlist = [\"#ff8303\" if tip.split(\"|\")[0] in acc_7alpha else \n",
    "             \"#fdca40\" if tip.split(\"|\")[0] in genes_7 else \n",
    "             \"#c67ace\" if tip.split(\"|\")[0] in acc_12alpha else \n",
    "             \"#fdbaf8\" if tip.split(\"|\")[0] in genes_12 else \n",
    "             \"#0061a8\" if tip.split(\"|\")[0] in acc_3alpha else \n",
    "             \"#8ab6d6\" if tip.split(\"|\")[0] in genes_3 else \n",
    "             \"grey\" for tip in tree.get_tip_labels()]\n",
    "canvas, axes, mark = tree.draw(use_edge_lengths=True, scalebar=True, width=1000, height=1000, tip_labels_colors=colorlist)\n",
    "toyplot.pdf.render(canvas, \"figure/hmm_out_merge_with_query.pdf\".format(gene_family))"
   ]
  },
  {
   "cell_type": "code",
   "execution_count": 156,
   "metadata": {},
   "outputs": [],
   "source": [
    "acc_3alpha = ['P80702', 'Q59718', 'A7B3K3', 'C8WMP0', 'P19337', 'P07914']\n",
    "acc_7alpha = ['P0AET8', 'Q5LA59', 'G9FRD7', 'P50200', 'Q8YIN7']\n",
    "acc_12alpha = ['P21215', 'R7AM69', 'C8WLK7', 'C0BWQ2', 'B0NG52', 'B6FYX7']\n",
    "\n",
    "tree = toytree.tree(tree_newick)\n",
    "colorlist = [\"#ff8303\" if tip.split(\"|\")[0] in acc_7alpha else \n",
    "             \"#fdca40\" if tip.split(\"|\")[0] in genes_7 else \n",
    "             \"#c67ace\" if tip.split(\"|\")[0] in acc_12alpha else \n",
    "             \"#fdbaf8\" if tip.split(\"|\")[0] in genes_12 else \n",
    "             \"#0061a8\" if tip.split(\"|\")[0] in acc_3alpha else \n",
    "             \"#8ab6d6\" if tip.split(\"|\")[0] in genes_3 else \n",
    "             \"grey\" for tip in tree.get_tip_labels()]\n",
    "canvas, axes, mark = tree.draw(use_edge_lengths=True, scalebar=True, width=1000, height=1000, tip_labels_colors=colorlist)\n",
    "toyplot.pdf.render(canvas, \"figure/hmm_out_merge_with_query.pdf\")"
   ]
  },
  {
   "cell_type": "code",
   "execution_count": 163,
   "metadata": {},
   "outputs": [],
   "source": [
    "canvas = toyplot.Canvas(800, 400)\n",
    "axes = canvas.cartesian(grid=(1,5,0,1,0,4))\n",
    "m1 = canvas.cartesian(grid=(1,2,0), margin=25).scatterplot([1,2], [1,2], color=[\"#ff8303\"])\n",
    "m2 = canvas.cartesian(grid=(1,2,0), margin=25).scatterplot([1,2], [1,2], color=[\"#fdca40\"])\n",
    "m3 = canvas.cartesian(grid=(1,2,0), margin=25).scatterplot([1,2], [1,2], color=[\"#c67ace\"])\n",
    "m4 = canvas.cartesian(grid=(1,2,0), margin=25).scatterplot([1,2], [1,2], color=[\"#fdbaf8\"])\n",
    "m5 = canvas.cartesian(grid=(1,2,0), margin=25).scatterplot([1,2], [1,2], color=[\"#0061a8\"])\n",
    "m6 = canvas.cartesian(grid=(1,2,0), margin=25).scatterplot([1,2], [1,2], color=[\"#8ab6d6\"])\n",
    "\n",
    "canvas.legend([\n",
    "        (\"HMM 3-alpha model genes\", m5),\n",
    "        (\"predicted 3-alpha genes\", m6),\n",
    "        (\"HMM 7-alpha model genes\", m1),\n",
    "        (\"predicted 7-alpha genes\", m2),\n",
    "        (\"HMM 12-alpha model genes\", m3),\n",
    "        (\"predicted 12-alpha genes\", m4)])\n",
    "\n",
    "toyplot.pdf.render(canvas, \"figure/hmm_out_merge_with_query_legend.pdf\")"
   ]
  }
 ],
 "metadata": {
  "kernelspec": {
   "display_name": "Python 3",
   "language": "python",
   "name": "python3"
  },
  "language_info": {
   "codemirror_mode": {
    "name": "ipython",
    "version": 3
   },
   "file_extension": ".py",
   "mimetype": "text/x-python",
   "name": "python",
   "nbconvert_exporter": "python",
   "pygments_lexer": "ipython3",
   "version": "3.7.4"
  }
 },
 "nbformat": 4,
 "nbformat_minor": 2
}
