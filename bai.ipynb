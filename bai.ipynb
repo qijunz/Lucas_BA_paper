{
 "cells": [
  {
   "cell_type": "code",
   "execution_count": 1,
   "metadata": {},
   "outputs": [],
   "source": [
    "import os\n",
    "import re\n",
    "import glob\n",
    "import urllib\n",
    "import toytree\n",
    "import toyplot\n",
    "import toyplot.pdf\n",
    "import subprocess\n",
    "import pandas as pd\n",
    "import numpy as np\n",
    "import matplotlib.pyplot as plt\n",
    "\n",
    "from io import StringIO\n",
    "\n",
    "from Bio import SeqIO\n",
    "from Bio import Entrez\n",
    "from Bio import AlignIO\n",
    "from Bio.Align.Applications import MuscleCommandline\n",
    "\n",
    "from BCBio import GFF"
   ]
  },
  {
   "cell_type": "markdown",
   "metadata": {},
   "source": [
    "### Strains that expected to see bai (bile acid-inducible) operon\n",
    "\n",
    "- *Dorea longicatena*\n",
    "- *Bacteroides vulgatus*\n",
    "- *Enterocloster bolteae*\n",
    "- *Holdemania filiformis*\n",
    "- *Bacteroides xylanisolvens*\n",
    "- *Bifidobacterium adolescentis*\n",
    "- *Clostridium hylemonae*\n",
    "- *Roseburia intestinalis*\n",
    "- *Clostridium scinden*\n",
    "\n",
    "Use the bai operon genes from *clostridium scindens VPI 12708* as reference:\n",
    "https://www.uniprot.org/uniprot/?query=clostridium%20scindens&fil=reviewed%3Ayes&sort=score\n",
    "\n",
    "- *baiB*: `P19409`, https://www.uniprot.org/uniprot/P19409\n",
    "- *baiCD*: `P19410`, https://www.uniprot.org/uniprot/P19410\n",
    "- *baiE*: `P19412`, https://www.uniprot.org/uniprot/P19412\n",
    "- *baiA2*: `P19337`, https://www.uniprot.org/uniprot/P19337\n",
    "- *baiF*: `P19413`, https://www.uniprot.org/uniprot/P19413\n",
    "- *baiG*: `P32369`, https://www.uniprot.org/uniprot/P32369\n",
    "- *baiH*: `P32370`, https://www.uniprot.org/uniprot/P32370\n",
    "- *baiI*: `P32371`, https://www.uniprot.org/uniprot/P32371\n",
    "\n"
   ]
  },
  {
   "cell_type": "code",
   "execution_count": 2,
   "metadata": {},
   "outputs": [],
   "source": [
    "os.chdir(\"/Users/rootqz/Desktop/ReyLab/paper/bile_acid/analysis/hmm/\")\n",
    "\n",
    "acc_bai = ['P19409', 'P19410', 'P19412', 'P19337', 'P19413', 'P32369', 'P32370', 'P32371']\n",
    "\n",
    "metadata = pd.read_csv(\"data/metadata.tsv\", sep=\"\\t\")"
   ]
  },
  {
   "cell_type": "code",
   "execution_count": 3,
   "metadata": {},
   "outputs": [],
   "source": [
    "# download reference protein sequences from UniProt\n",
    "records = []\n",
    "records_dict = {}\n",
    "for acc in acc_bai:\n",
    "    handle = urllib.request.urlopen(\"http://www.uniprot.org/uniprot/{}.xml\".format(acc))\n",
    "    record = SeqIO.read(handle, \"uniprot-xml\")\n",
    "    # print(\"{}, {}\".format(acc, record.id))\n",
    "    SeqIO.write(record, \"bai/ref_uniprot/{}.fasta\".format(acc), \"fasta\")\n",
    "    records_dict[acc] = record\n",
    "    records.append(record)\n",
    "    SeqIO.write(records, \"bai/bai_clostridium_scindens_UniProt.fasta\", \"fasta\")"
   ]
  },
  {
   "cell_type": "code",
   "execution_count": 4,
   "metadata": {},
   "outputs": [
    {
     "data": {
      "text/plain": [
       "0"
      ]
     },
     "execution_count": 4,
     "metadata": {},
     "output_type": "execute_result"
    }
   ],
   "source": [
    "# build blast reference\n",
    "subprocess.call(\"makeblastdb -in bai/bai_clostridium_scindens_UniProt.fasta -dbtype prot\", stdout=True, shell=True)\n"
   ]
  },
  {
   "cell_type": "code",
   "execution_count": 6,
   "metadata": {},
   "outputs": [],
   "source": [
    "# run blastp\n",
    "for genome_file in sorted(glob.glob(\"data/protein_faa/*.faa\")):\n",
    "    # print(genome_file)\n",
    "    genome_id = genome_file.split(\"/\")[-1][:-12]\n",
    "    taxa = metadata[metadata[\"genome_id\"] == genome_id][\"name\"].tolist()[0]\n",
    "\n",
    "    subprocess.call(\"blastp -db bai/bai_clostridium_scindens_UniProt.fasta \\\n",
    "                            -query {} \\\n",
    "                            -evalue 1e-5 \\\n",
    "                            -outfmt 6 \\\n",
    "                            -out bai/result/{}.blastp.out\".format(genome_file, genome_id), stdout=True, shell=True)\n",
    "    "
   ]
  },
  {
   "cell_type": "code",
   "execution_count": 44,
   "metadata": {},
   "outputs": [],
   "source": [
    "# concat blastp results\n",
    "for genome_file in sorted(glob.glob(\"data/protein_faa/*.faa\")):\n",
    "    # print(genome_file)\n",
    "    genome_id = genome_file.split(\"/\")[-1][:-12]\n",
    "    taxa = metadata[metadata[\"genome_id\"] == genome_id][\"name\"].tolist()[0]\n",
    "    \n",
    "    blastp_out = pd.read_csv(\"bai/result/{}.blastp.out\".format(genome_id), sep=\"\\t\", header=None)\n",
    "    blastp_out.columns = ['qseqid', 'sseqid', 'pident', 'length', 'mismatch', \n",
    "                          'gapopen', 'qstart', 'qend', 'sstart', 'send', 'evalue', 'bitscore']\n",
    "    blastp_out['genome_id'] = [genome_id]*blastp_out.shape[0]\n",
    "    blastp_out['taxa'] = [taxa]*blastp_out.shape[0]\n",
    "    \n",
    "    if genome_file == sorted(glob.glob(\"data/protein_faa/*.faa\"))[0]:\n",
    "        blastp_out_all = pd.DataFrame(columns = ['qseqid', 'sseqid', 'pident', 'length', 'mismatch', \n",
    "                                                 'gapopen', 'qstart', 'qend', 'sstart', 'send', \n",
    "                                                 'evalue', 'bitscore',\n",
    "                                                 'genome_id', 'taxa'])\n",
    "\n",
    "    blastp_out_all = pd.concat([blastp_out_all, blastp_out], axis=0)\n",
    "    \n",
    "blastp_out_all.to_csv(\"bai/blastp_out_all_genomes.tsv\", sep=\"\\t\", index=None)"
   ]
  },
  {
   "cell_type": "code",
   "execution_count": 71,
   "metadata": {},
   "outputs": [
    {
     "name": "stderr",
     "output_type": "stream",
     "text": [
      "/Users/rootqz/anaconda3/lib/python3.7/site-packages/ipykernel_launcher.py:10: SettingWithCopyWarning: \n",
      "A value is trying to be set on a copy of a slice from a DataFrame.\n",
      "Try using .loc[row_indexer,col_indexer] = value instead\n",
      "\n",
      "See the caveats in the documentation: http://pandas.pydata.org/pandas-docs/stable/user_guide/indexing.html#returning-a-view-versus-a-copy\n",
      "  # Remove the CWD from sys.path while we load stuff.\n",
      "/Users/rootqz/anaconda3/lib/python3.7/site-packages/ipykernel_launcher.py:11: SettingWithCopyWarning: \n",
      "A value is trying to be set on a copy of a slice from a DataFrame.\n",
      "Try using .loc[row_indexer,col_indexer] = value instead\n",
      "\n",
      "See the caveats in the documentation: http://pandas.pydata.org/pandas-docs/stable/user_guide/indexing.html#returning-a-view-versus-a-copy\n",
      "  # This is added back by InteractiveShellApp.init_path()\n",
      "/Users/rootqz/anaconda3/lib/python3.7/site-packages/ipykernel_launcher.py:12: SettingWithCopyWarning: \n",
      "A value is trying to be set on a copy of a slice from a DataFrame.\n",
      "Try using .loc[row_indexer,col_indexer] = value instead\n",
      "\n",
      "See the caveats in the documentation: http://pandas.pydata.org/pandas-docs/stable/user_guide/indexing.html#returning-a-view-versus-a-copy\n",
      "  if sys.path[0] == '':\n"
     ]
    }
   ],
   "source": [
    "# extract CDS annotation\n",
    "for genome_file in sorted(glob.glob(\"data/protein_faa/*.faa\")):\n",
    "\n",
    "    genome_id = genome_file.split(\"/\")[-1][:-12]\n",
    "    taxa = metadata[metadata[\"genome_id\"] == genome_id][\"name\"].tolist()[0]\n",
    "    \n",
    "    gff = pd.read_csv(\"data/genome_gff/{}_genomic.gff\".format(genome_id), sep=\"\\t\", comment='#', header=None)\n",
    "    gff.columns = ['genome', 'ref_type', 'gene_type', 'start', 'end', 'i1', 'strand', 'i2', 'i3']\n",
    "    gff_cds = gff[gff['gene_type'] == \"CDS\"]\n",
    "    gff_cds['gene'] = [x.split(\";\")[0].split(\"-\")[1] for x in gff_cds.iloc[:,8].tolist()]\n",
    "    gff_cds['genome_id'] = [genome_id]*gff_cds.shape[0]\n",
    "    gff_cds['taxa'] = [taxa]*gff_cds.shape[0]\n",
    "    this_gff = gff_cds[['genome', 'start', 'end', 'strand', 'gene', 'genome_id', 'taxa']]\n",
    "    \n",
    "    if genome_file == sorted(glob.glob(\"data/protein_faa/*.faa\"))[0]:\n",
    "        gff_out = pd.DataFrame(columns = ['genome', 'start', 'end', 'strand', 'gene', 'genome_id', 'taxa'])\n",
    "\n",
    "    gff_out = pd.concat([gff_out, this_gff], axis=0)\n",
    "    \n",
    "gff_out.to_csv(\"bai/gff_out_all_genomes.tsv\", sep=\"\\t\", index=None)"
   ]
  }
 ],
 "metadata": {
  "kernelspec": {
   "display_name": "Python 3",
   "language": "python",
   "name": "python3"
  },
  "language_info": {
   "codemirror_mode": {
    "name": "ipython",
    "version": 3
   },
   "file_extension": ".py",
   "mimetype": "text/x-python",
   "name": "python",
   "nbconvert_exporter": "python",
   "pygments_lexer": "ipython3",
   "version": "3.7.4"
  }
 },
 "nbformat": 4,
 "nbformat_minor": 2
}
